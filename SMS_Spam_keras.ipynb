{
  "nbformat": 4,
  "nbformat_minor": 0,
  "metadata": {
    "colab": {
      "name": "SMS_Spam_keras.ipynb",
      "provenance": [],
      "private_outputs": true,
      "collapsed_sections": [],
      "toc_visible": true
    },
    "kernelspec": {
      "name": "python3",
      "display_name": "Python 3"
    },
    "accelerator": "GPU"
  },
  "cells": [
    {
      "cell_type": "code",
      "metadata": {
        "id": "c4duMwHwlBaj",
        "colab_type": "code",
        "colab": {}
      },
      "source": [
        "import pandas as pd\n",
        "import numpy as np\n",
        "import requests"
      ],
      "execution_count": null,
      "outputs": []
    },
    {
      "cell_type": "code",
      "metadata": {
        "id": "ctnAUMszllRN",
        "colab_type": "code",
        "colab": {}
      },
      "source": [
        "df = pd.read_csv('spam.csv' , encoding='latin-1')"
      ],
      "execution_count": null,
      "outputs": []
    },
    {
      "cell_type": "code",
      "metadata": {
        "id": "nHfn5IONJobE",
        "colab_type": "code",
        "colab": {}
      },
      "source": [
        "df"
      ],
      "execution_count": null,
      "outputs": []
    },
    {
      "cell_type": "code",
      "metadata": {
        "id": "DOQwmgf9lp6n",
        "colab_type": "code",
        "colab": {}
      },
      "source": [
        "## taking only the first and second columns :\n",
        "df = df[['v1', 'v2']]\n",
        "df.head()                                     ## print  first five tuples"
      ],
      "execution_count": null,
      "outputs": []
    },
    {
      "cell_type": "code",
      "metadata": {
        "id": "lpw3EAWJl-VX",
        "colab_type": "code",
        "colab": {}
      },
      "source": [
        "## Converting value of v1 in numeric\n",
        "df['v1'] = df['v1'].apply(lambda x : 1 if x=='ham' else 0)\n",
        "df.head()"
      ],
      "execution_count": null,
      "outputs": []
    },
    {
      "cell_type": "code",
      "metadata": {
        "id": "YNhkK3zBnTIb",
        "colab_type": "code",
        "colab": {}
      },
      "source": [
        "from tensorflow.keras.models import Sequential                                ### importing required packages\n",
        "from tensorflow.keras.layers import Dense, Dropout, LSTM, Embedding\n",
        "from tensorflow.keras import metrics\n",
        "from tensorflow.keras.preprocessing import sequence"
      ],
      "execution_count": null,
      "outputs": []
    },
    {
      "cell_type": "code",
      "metadata": {
        "id": "4oT-N7k_UjgZ",
        "colab_type": "code",
        "colab": {}
      },
      "source": [
        "tag = df[\"v1\"].to_list()                   ### converting pandas series to list\n",
        "text = df[\"v2\"].to_list()"
      ],
      "execution_count": null,
      "outputs": []
    },
    {
      "cell_type": "code",
      "metadata": {
        "id": "wjRLHnoRURAe",
        "colab_type": "code",
        "colab": {}
      },
      "source": [
        "for ix,x in enumerate(text):                         ## spliting in tockens\n",
        "  text[ix] = x.split(' ')"
      ],
      "execution_count": null,
      "outputs": []
    },
    {
      "cell_type": "code",
      "metadata": {
        "id": "nspzn8uQT7et",
        "colab_type": "code",
        "colab": {}
      },
      "source": [
        "vocab = {}           ### dictionary that will contain word : numeric_code\n",
        "\n",
        "for x in text:\n",
        "  for y in x:\n",
        "    if y not in vocab.keys():\n",
        "      vocab[y] = len(vocab)+1"
      ],
      "execution_count": null,
      "outputs": []
    },
    {
      "cell_type": "code",
      "metadata": {
        "id": "Gy2uZXadWigX",
        "colab_type": "code",
        "colab": {}
      },
      "source": [
        "len(vocab)          ## Total unique tokens"
      ],
      "execution_count": null,
      "outputs": []
    },
    {
      "cell_type": "code",
      "metadata": {
        "id": "RIqCiBZiVtIr",
        "colab_type": "code",
        "colab": {}
      },
      "source": [
        "#### converting the text to numerics\n",
        "for x in text:\n",
        "  for iy,y in enumerate(x):\n",
        "    x[iy] = vocab[y]"
      ],
      "execution_count": null,
      "outputs": []
    },
    {
      "cell_type": "code",
      "metadata": {
        "id": "A92lXxMfWK7J",
        "colab_type": "code",
        "colab": {}
      },
      "source": [
        "### Making all the texts of equal length i.e. 100 words.\n",
        "### trimming the larger sentences to 100 words and adding a dummy 0\n",
        "X = sequence.pad_sequences(np.array(text),maxlen=100 , value = 0 , padding = 'post')\n",
        "y = np.array(tag)     ## converting to np array"
      ],
      "execution_count": null,
      "outputs": []
    },
    {
      "cell_type": "code",
      "metadata": {
        "id": "fFkAKmGQXlJq",
        "colab_type": "code",
        "colab": {}
      },
      "source": [
        "print(X.shape , y.shape )             ## printing the shape of x and y"
      ],
      "execution_count": null,
      "outputs": []
    },
    {
      "cell_type": "code",
      "metadata": {
        "id": "uzm4zelCXXBl",
        "colab_type": "code",
        "colab": {}
      },
      "source": [
        "from sklearn.model_selection import train_test_split                         ## to split the dataset in training and testing sets\n",
        "x_train,x_test,y_train,y_test = train_test_split(X,y, test_size = 0.2)"
      ],
      "execution_count": null,
      "outputs": []
    },
    {
      "cell_type": "code",
      "metadata": {
        "id": "e4RINbSxA4SO",
        "colab_type": "code",
        "colab": {}
      },
      "source": [
        "max_features = 20000                        ## max vocab size"
      ],
      "execution_count": null,
      "outputs": []
    },
    {
      "cell_type": "code",
      "metadata": {
        "id": "yQXeN3aEAdgf",
        "colab_type": "code",
        "colab": {}
      },
      "source": [
        "model = Sequential()\n",
        "model.add(Embedding(max_features, 128))\n",
        "model.add(LSTM(128, dropout=0.2, recurrent_dropout=0.2,activation='relu'))\n",
        "model.add(Dense(1, activation='sigmoid'))\n",
        "model.compile(loss='binary_crossentropy',optimizer='adam',metrics=['acc'] )\n"
      ],
      "execution_count": null,
      "outputs": []
    },
    {
      "cell_type": "code",
      "metadata": {
        "id": "puQwFgNmAxkd",
        "colab_type": "code",
        "colab": {}
      },
      "source": [
        "model.summary()"
      ],
      "execution_count": null,
      "outputs": []
    },
    {
      "cell_type": "code",
      "metadata": {
        "id": "r4izCpWKBgzX",
        "colab_type": "code",
        "colab": {}
      },
      "source": [
        "model.fit(x_train , y_train, batch_size=128 , epochs =2 , validation_data= (x_test,y_test), validation_batch_size=32)"
      ],
      "execution_count": null,
      "outputs": []
    },
    {
      "cell_type": "code",
      "metadata": {
        "id": "scW3bmMgZkKl",
        "colab_type": "code",
        "colab": {}
      },
      "source": [
        "def predict_sms(txt):       #### a function to predict users input sentence, make sure that trained model is laded in model variable\n",
        "  txt = txt.split(' ')\n",
        "  for ix,x in enumerate(txt):\n",
        "    try:\n",
        "      z  = vocab[x]\n",
        "    except:\n",
        "      z = 0\n",
        "    txt[ix] = z\n",
        "  #print(txt)\n",
        "  txt = sequence.pad_sequences([txt],maxlen=100 , value = 0 , padding = 'post')\n",
        "  txt = model.predict(txt)\n",
        "  #print('Output probability of model -' , txt[0][0] )\n",
        "  if txt[0][0] >= 0.5 :\n",
        "    return \"Its a ham.\"\n",
        "  else:\n",
        "    return \"Its a spam.\""
      ],
      "execution_count": null,
      "outputs": []
    },
    {
      "cell_type": "code",
      "metadata": {
        "id": "xRKHitSP_j2u",
        "colab_type": "code",
        "colab": {}
      },
      "source": [
        "predict_sms('Who are you?')"
      ],
      "execution_count": null,
      "outputs": []
    },
    {
      "cell_type": "code",
      "metadata": {
        "id": "uI68MrpHK_V-",
        "colab_type": "code",
        "colab": {}
      },
      "source": [
        ""
      ],
      "execution_count": null,
      "outputs": []
    }
  ]
}